{
 "cells": [
  {
   "cell_type": "markdown",
   "id": "1fa99529",
   "metadata": {},
   "source": [
    "# Pytorch cheet sheet"
   ]
  },
  {
   "cell_type": "markdown",
   "id": "b0d58feb",
   "metadata": {},
   "source": [
    "to cover:refine_names, split, rename, align ... norm, lu\n",
    "https://github.com/pytorch/pytorch/blob/main/torch/_tensor.py#L872\n",
    "<br>\n",
    "linear algebra: <br>\n",
    "triu ,tril, print(x_data.trace())\n",
    "\n",
    "https://pytorch.org/docs/stable/tensor_view.html"
   ]
  },
  {
   "cell_type": "code",
   "execution_count": 1,
   "id": "8315d778-adaf-4697-8f5d-ff18145a33ba",
   "metadata": {},
   "outputs": [],
   "source": [
    "import torch as t\n",
    "import numpy as np"
   ]
  },
  {
   "cell_type": "markdown",
   "id": "f1807cee",
   "metadata": {},
   "source": [
    "## Create a tensor\n",
    "Tensor is an array, like numpy array, but you can run it on GPUs, TPUs and other accelerating hardwares."
   ]
  },
  {
   "cell_type": "markdown",
   "id": "56d59afa",
   "metadata": {},
   "source": [
    "You can simply create a tensor from numpy array or a list"
   ]
  },
  {
   "cell_type": "code",
   "execution_count": 2,
   "id": "a3c6b5d9",
   "metadata": {},
   "outputs": [
    {
     "data": {
      "text/plain": [
       "tensor([[[1, 2, 3],\n",
       "         [4, 6, 8]],\n",
       "\n",
       "        [[3, 5, 1],\n",
       "         [7, 9, 2]]])"
      ]
     },
     "execution_count": 2,
     "metadata": {},
     "output_type": "execute_result"
    }
   ],
   "source": [
    "data = [[[1, 2, 3], [4, 6, 8]],[[3, 5, 1], [7, 9, 2]]]\n",
    "x_data = t.tensor(data)\n",
    "x_data"
   ]
  },
  {
   "cell_type": "markdown",
   "id": "148c4329",
   "metadata": {},
   "source": [
    "***\n",
    "With `dtype` and `shape` properties you can access type and shape of a tensor. <br>\n",
    "As a newbie you will time to time have headache with tensors being on the wrong device, the `device` attribute will help you locate your data."
   ]
  },
  {
   "cell_type": "code",
   "execution_count": 3,
   "id": "2239034d",
   "metadata": {},
   "outputs": [
    {
     "name": "stdout",
     "output_type": "stream",
     "text": [
      "torch.int64\n",
      "torch.Size([2, 2, 3])\n",
      "cpu\n"
     ]
    }
   ],
   "source": [
    "print(x_data.dtype)\n",
    "print(x_data.shape)\n",
    "print(x_data.device)"
   ]
  },
  {
   "cell_type": "markdown",
   "id": "4f89d849",
   "metadata": {},
   "source": [
    "Another useful method is `dim` which returns the dimension of a tensor."
   ]
  },
  {
   "cell_type": "code",
   "execution_count": 4,
   "id": "d974e833",
   "metadata": {},
   "outputs": [
    {
     "data": {
      "text/plain": [
       "3"
      ]
     },
     "execution_count": 4,
     "metadata": {},
     "output_type": "execute_result"
    }
   ],
   "source": [
    "x_data.dim()"
   ]
  },
  {
   "cell_type": "markdown",
   "id": "6f6b8314",
   "metadata": {},
   "source": [
    "***\n",
    "There are some familiar properties like `len` and also method like `iter`. (We will talk about indexing and slicing later)"
   ]
  },
  {
   "cell_type": "code",
   "execution_count": 5,
   "id": "698e19f1",
   "metadata": {},
   "outputs": [
    {
     "name": "stdout",
     "output_type": "stream",
     "text": [
      "2\n",
      "2\n"
     ]
    }
   ],
   "source": [
    "print(len(x_data))\n",
    "print(len(x_data[0]))"
   ]
  },
  {
   "cell_type": "code",
   "execution_count": 6,
   "id": "b991064e",
   "metadata": {},
   "outputs": [
    {
     "name": "stdout",
     "output_type": "stream",
     "text": [
      "tensor([[1, 2, 3],\n",
      "        [4, 6, 8]])\n",
      "tensor([[3, 5, 1],\n",
      "        [7, 9, 2]])\n"
     ]
    }
   ],
   "source": [
    "g = iter(x_data)\n",
    "print(next(g))\n",
    "print(next(g))"
   ]
  },
  {
   "cell_type": "markdown",
   "id": "1fa1b295",
   "metadata": {},
   "source": [
    "***\n",
    "tensor can have different types, you can change the type of tensor using `to` method. You can use the same method to move tensor between gpu and cpu."
   ]
  },
  {
   "cell_type": "code",
   "execution_count": 7,
   "id": "1cd104cc",
   "metadata": {},
   "outputs": [
    {
     "data": {
      "text/plain": [
       "tensor([[[1., 2., 3.],\n",
       "         [4., 6., 8.]],\n",
       "\n",
       "        [[3., 5., 1.],\n",
       "         [7., 9., 2.]]], dtype=torch.float64)"
      ]
     },
     "execution_count": 7,
     "metadata": {},
     "output_type": "execute_result"
    }
   ],
   "source": [
    "x = x_data.to(dtype=t.float64)\n",
    "x.to('cpu') # or .to('cuda:0') .to('cuda',0)"
   ]
  },
  {
   "cell_type": "markdown",
   "id": "93bf213f",
   "metadata": {},
   "source": [
    "### Create a special tensor\n",
    "We use special tensors like, ones, zeros and ... a lot! lets review them"
   ]
  },
  {
   "cell_type": "code",
   "execution_count": 8,
   "id": "c559466b",
   "metadata": {},
   "outputs": [
    {
     "name": "stdout",
     "output_type": "stream",
     "text": [
      "tensor([[0.9000, 0.1991, 0.2910],\n",
      "        [0.0664, 0.7480, 0.1320]])\n",
      "tensor([[1., 1., 1.],\n",
      "        [1., 1., 1.]])\n",
      "tensor([[0., 0., 0.],\n",
      "        [0., 0., 0.]])\n",
      "tensor([[1., 0.],\n",
      "        [0., 1.]])\n"
     ]
    }
   ],
   "source": [
    "shape = [2, 3,]\n",
    "rand_tensor = t.rand(shape)\n",
    "ones_tensor = t.ones(shape)\n",
    "zeros_tensor = t.zeros(shape)\n",
    "# eye accepts one input as the output is square tensor\n",
    "eye_tensor = t.eye(shape[0])\n",
    "print(rand_tensor)\n",
    "print(ones_tensor)\n",
    "print(zeros_tensor)\n",
    "print(eye_tensor)"
   ]
  },
  {
   "cell_type": "markdown",
   "id": "2be84508",
   "metadata": {},
   "source": [
    "***\n",
    "we can also use `{zeros|ones}_like` method, which create a tensor with the same shape as the input tensor"
   ]
  },
  {
   "cell_type": "code",
   "execution_count": 9,
   "id": "17588769",
   "metadata": {},
   "outputs": [
    {
     "name": "stdout",
     "output_type": "stream",
     "text": [
      "tensor([[[1, 1, 1],\n",
      "         [1, 1, 1]],\n",
      "\n",
      "        [[1, 1, 1],\n",
      "         [1, 1, 1]]])\n",
      "torch.int64\n"
     ]
    }
   ],
   "source": [
    "like_1 = t.ones_like(x_data)\n",
    "print(like_1)\n",
    "print(like_1.dtype)"
   ]
  },
  {
   "cell_type": "markdown",
   "id": "de3d218d",
   "metadata": {},
   "source": [
    "for more tensor creation methods refer to pytorch's official __[documentation](https://pytorch.org/docs/stable/torch.html#creation-ops)__"
   ]
  },
  {
   "cell_type": "markdown",
   "id": "a0617dc0",
   "metadata": {},
   "source": [
    "## Indexing and slicing\n",
    "Lets create a 2D tensor and play with slice and index. Lets use `linspace` and `reshape` to get familiar with new methods. <br>\n",
    "You will see that indexing in pytorch is very similar to numpy."
   ]
  },
  {
   "cell_type": "code",
   "execution_count": 10,
   "id": "c821397a",
   "metadata": {},
   "outputs": [
    {
     "name": "stdout",
     "output_type": "stream",
     "text": [
      "tensor([0., 1., 2., 3., 4., 5., 6., 7., 8.])\n",
      "tensor([[0., 1., 2.],\n",
      "        [3., 4., 5.],\n",
      "        [6., 7., 8.]])\n"
     ]
    }
   ],
   "source": [
    "d = t.linspace(0,8,9)\n",
    "print(d)\n",
    "x_data = d.reshape((3,3))\n",
    "print(x_data)"
   ]
  },
  {
   "cell_type": "code",
   "execution_count": 11,
   "id": "7fe65d70",
   "metadata": {},
   "outputs": [
    {
     "data": {
      "text/plain": [
       "tensor([1., 4., 7.])"
      ]
     },
     "execution_count": 11,
     "metadata": {},
     "output_type": "execute_result"
    }
   ],
   "source": [
    "x_data[:,1]"
   ]
  },
  {
   "cell_type": "code",
   "execution_count": 12,
   "id": "ff8ce692",
   "metadata": {},
   "outputs": [
    {
     "data": {
      "text/plain": [
       "tensor([3., 4., 5.])"
      ]
     },
     "execution_count": 12,
     "metadata": {},
     "output_type": "execute_result"
    }
   ],
   "source": [
    "x_data[1, :]"
   ]
  },
  {
   "cell_type": "code",
   "execution_count": 13,
   "id": "94d6b684",
   "metadata": {},
   "outputs": [
    {
     "data": {
      "text/plain": [
       "tensor(1.)"
      ]
     },
     "execution_count": 13,
     "metadata": {},
     "output_type": "execute_result"
    }
   ],
   "source": [
    "x_data[0,1]"
   ]
  },
  {
   "cell_type": "markdown",
   "id": "2510512f",
   "metadata": {},
   "source": [
    "## Views\n",
    "Views are not new tensors"
   ]
  },
  {
   "cell_type": "code",
   "execution_count": 14,
   "id": "b7a42b4f",
   "metadata": {},
   "outputs": [
    {
     "name": "stdout",
     "output_type": "stream",
     "text": [
      "tensor([[0.5341, 0.0632, 0.9589, 0.4748],\n",
      "        [0.7408, 0.8178, 0.1428, 0.6602],\n",
      "        [0.4033, 0.7835, 0.6792, 0.4182]])\n",
      "tensor([[0.5341, 0.0632, 0.9589, 0.4748, 0.7408, 0.8178],\n",
      "        [0.1428, 0.6602, 0.4033, 0.7835, 0.6792, 0.4182]])\n"
     ]
    }
   ],
   "source": [
    "x_tensor = t.rand(3, 4)\n",
    "print(x_tensor)\n",
    "x_view = x_tensor.view(2,6)\n",
    "print(x_view)"
   ]
  },
  {
   "cell_type": "markdown",
   "id": "cb4df2ee",
   "metadata": {},
   "source": [
    "***\n",
    "As you see here, both view and original tensors (despite their different shapes) point to the same locations in the memory. <br>\n",
    "While `clone` of a tensor will create a copy and points to a different location in memory. "
   ]
  },
  {
   "cell_type": "code",
   "execution_count": 15,
   "id": "f424834d",
   "metadata": {},
   "outputs": [
    {
     "name": "stdout",
     "output_type": "stream",
     "text": [
      "140625088379520\n",
      "140625088379520\n"
     ]
    }
   ],
   "source": [
    "print(x_tensor.untyped_storage().data_ptr())\n",
    "print(x_view.untyped_storage().data_ptr())"
   ]
  },
  {
   "cell_type": "code",
   "execution_count": 16,
   "id": "194f50e8",
   "metadata": {},
   "outputs": [
    {
     "name": "stdout",
     "output_type": "stream",
     "text": [
      "140625088593344\n"
     ]
    }
   ],
   "source": [
    "y_tensor = x_tensor.clone()\n",
    "print(y_tensor.untyped_storage().data_ptr())"
   ]
  },
  {
   "cell_type": "markdown",
   "id": "65ffcd8e",
   "metadata": {},
   "source": [
    "## Example: Load a batch of images"
   ]
  },
  {
   "cell_type": "code",
   "execution_count": null,
   "id": "1ea7413f",
   "metadata": {},
   "outputs": [],
   "source": []
  }
 ],
 "metadata": {
  "kernelspec": {
   "display_name": "Python 3 (ipykernel)",
   "language": "python",
   "name": "python3"
  },
  "language_info": {
   "codemirror_mode": {
    "name": "ipython",
    "version": 3
   },
   "file_extension": ".py",
   "mimetype": "text/x-python",
   "name": "python",
   "nbconvert_exporter": "python",
   "pygments_lexer": "ipython3",
   "version": "3.8.16"
  }
 },
 "nbformat": 4,
 "nbformat_minor": 5
}
